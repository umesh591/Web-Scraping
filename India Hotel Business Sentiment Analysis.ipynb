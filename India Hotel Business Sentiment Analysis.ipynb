{
 "cells": [
  {
   "cell_type": "markdown",
   "metadata": {},
   "source": [
    "# <h1 style=\"text-align:center\">Hotel Business Sentiment Analysis</h1>"
   ]
  },
  {
   "cell_type": "code",
   "execution_count": 1,
   "metadata": {},
   "outputs": [],
   "source": [
    "from selenium import webdriver"
   ]
  },
  {
   "cell_type": "code",
   "execution_count": 2,
   "metadata": {},
   "outputs": [],
   "source": [
    "driver= webdriver.Chrome(\"chromedriver_win32/chromedriver.exe\")"
   ]
  },
  {
   "cell_type": "code",
   "execution_count": 3,
   "metadata": {},
   "outputs": [],
   "source": [
    "driver.get(\"https://economictimes.indiatimes.com/markets/expert-view/pandemic-taught-hotel-industry-to-live-with-zero-revenues-and-with-fixed-costs-turning-variable-puneet-chhatwal/articleshow/76874219.cms\")"
   ]
  },
  {
   "cell_type": "code",
   "execution_count": 4,
   "metadata": {},
   "outputs": [],
   "source": [
    "data = driver.find_elements_by_xpath(\"//div[@class='artText medium']\")"
   ]
  },
  {
   "cell_type": "markdown",
   "metadata": {},
   "source": [
    " <h2>This is the article on Hotel Business by Nikung Dalmia</h2>"
   ]
  },
  {
   "cell_type": "markdown",
   "metadata": {},
   "source": [
    "<p>On this page there is three article on three differnt topic so i only selected frist one</p>"
   ]
  },
  {
   "cell_type": "code",
   "execution_count": 5,
   "metadata": {},
   "outputs": [],
   "source": [
    "f= open(\"HotelBusiness.txt\",\"a\", encoding='utf-8')"
   ]
  },
  {
   "cell_type": "code",
   "execution_count": 6,
   "metadata": {},
   "outputs": [],
   "source": [
    "f.write(data[0].text)\n",
    "f.close()"
   ]
  },
  {
   "cell_type": "code",
   "execution_count": 7,
   "metadata": {},
   "outputs": [],
   "source": [
    "Hotelreview = open(\"HotelBusiness.txt\", encoding='utf-8').read()"
   ]
  },
  {
   "cell_type": "code",
   "execution_count": 8,
   "metadata": {},
   "outputs": [],
   "source": [
    "import string\n",
    "from nltk.sentiment.vader import SentimentIntensityAnalyzer"
   ]
  },
  {
   "cell_type": "code",
   "execution_count": 9,
   "metadata": {},
   "outputs": [],
   "source": [
    "lower_case =Hotelreview.lower()\n",
    "cleaned_text = lower_case.translate(str.maketrans('','',string.punctuation))"
   ]
  },
  {
   "cell_type": "code",
   "execution_count": 10,
   "metadata": {},
   "outputs": [],
   "source": [
    "def sentiment_analyse(sentiment_text):\n",
    "    score =SentimentIntensityAnalyzer().polarity_scores(sentiment_text)\n",
    "    \n",
    "    if score['neu'] > 0.5 :\n",
    "        print(\"Neutral Sentiment\")\n",
    "        print(\"Pos ==> {0} \\nNeg ==> {1} \\nNeu ==> {2}\".format(score['pos'],score['neg'],score['neu']))\n",
    "    elif score['neg'] > score['pos']:\n",
    "        print(\"\\n *******Negative Sentiment******\")\n",
    "        print(\"Pos ==> {0} \\nNeg ==> {1} \\nNeu ==> {2}\".format(score['pos'],score['neg'],score['neu']))\n",
    "    else:\n",
    "        print(\"\\n *******Positive Sentiment******\")\n",
    "        print(\"Pos ==> {0} \\nNeg ==> {1} \\nNeu ==> {2}\".format(score['pos'],score['neg'],score['neu']))"
   ]
  },
  {
   "cell_type": "code",
   "execution_count": 11,
   "metadata": {},
   "outputs": [
    {
     "name": "stdout",
     "output_type": "stream",
     "text": [
      "Neutral Sentiment\n",
      "Pos ==> 0.118 \n",
      "Neg ==> 0.038 \n",
      "Neu ==> 0.843\n"
     ]
    }
   ],
   "source": [
    "sentiment_analyse(cleaned_text)"
   ]
  },
  {
   "cell_type": "markdown",
   "metadata": {},
   "source": [
    "<h4> According to this article Sentiment Analysis of India Hotel Business is <b>Neutral</b> </h4>"
   ]
  },
  {
   "cell_type": "code",
   "execution_count": null,
   "metadata": {},
   "outputs": [],
   "source": []
  }
 ],
 "metadata": {
  "kernelspec": {
   "display_name": "Python 3",
   "language": "python",
   "name": "python3"
  },
  "language_info": {
   "codemirror_mode": {
    "name": "ipython",
    "version": 3
   },
   "file_extension": ".py",
   "mimetype": "text/x-python",
   "name": "python",
   "nbconvert_exporter": "python",
   "pygments_lexer": "ipython3",
   "version": "3.7.3"
  }
 },
 "nbformat": 4,
 "nbformat_minor": 2
}
